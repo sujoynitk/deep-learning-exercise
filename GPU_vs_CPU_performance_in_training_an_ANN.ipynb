{
  "nbformat": 4,
  "nbformat_minor": 0,
  "metadata": {
    "colab": {
      "provenance": [],
      "gpuType": "T4"
    },
    "kernelspec": {
      "name": "python3",
      "display_name": "Python 3"
    },
    "language_info": {
      "name": "python"
    },
    "accelerator": "GPU"
  },
  "cells": [
    {
      "cell_type": "code",
      "execution_count": null,
      "metadata": {
        "id": "WwyHckmw_KSP"
      },
      "outputs": [],
      "source": [
        "import tensorflow as tf\n",
        "from tensorflow import keras\n",
        "import matplotlib.pyplot as plt\n",
        "from tensorflow.keras.models import Sequential\n",
        "from tensorflow.keras.layers import Dense, Flatten"
      ]
    },
    {
      "cell_type": "code",
      "source": [
        "tf.config.experimental.list_physical_devices()"
      ],
      "metadata": {
        "id": "FYmTKMOc_N-d",
        "colab": {
          "base_uri": "https://localhost:8080/"
        },
        "outputId": "d7fe9c42-9b95-4093-989e-a15cbc2359bd"
      },
      "execution_count": null,
      "outputs": [
        {
          "output_type": "execute_result",
          "data": {
            "text/plain": [
              "[PhysicalDevice(name='/physical_device:CPU:0', device_type='CPU'),\n",
              " PhysicalDevice(name='/physical_device:GPU:0', device_type='GPU')]"
            ]
          },
          "metadata": {},
          "execution_count": 5
        }
      ]
    },
    {
      "cell_type": "code",
      "source": [
        "(x_train, y_train), (x_test, y_test) = keras.datasets.cifar10.load_data()"
      ],
      "metadata": {
        "id": "Eub1N89qAIdC",
        "outputId": "97fe8ad5-63ab-42d5-bf9a-929f81c0fb2f",
        "colab": {
          "base_uri": "https://localhost:8080/"
        }
      },
      "execution_count": null,
      "outputs": [
        {
          "output_type": "stream",
          "name": "stdout",
          "text": [
            "Downloading data from https://www.cs.toronto.edu/~kriz/cifar-10-python.tar.gz\n",
            "170498071/170498071 [==============================] - 4s 0us/step\n"
          ]
        }
      ]
    },
    {
      "cell_type": "code",
      "source": [
        "x_train_scaled = x_train / 255\n",
        "x_test_scaled = x_test / 255"
      ],
      "metadata": {
        "id": "xvXY8pTxANEf"
      },
      "execution_count": null,
      "outputs": []
    },
    {
      "cell_type": "code",
      "source": [
        "y_train_categorical = keras.utils.to_categorical(y_train)\n",
        "y_test_categorical = keras.utils.to_categorical(y_train)"
      ],
      "metadata": {
        "id": "sJXHy6SjAYsU"
      },
      "execution_count": null,
      "outputs": []
    },
    {
      "cell_type": "code",
      "source": [
        "def plot_image(img):\n",
        "  plt.figure(figsize=(10,1))\n",
        "  plt.imshow(img)\n"
      ],
      "metadata": {
        "id": "4zCq5FeSA-tY"
      },
      "execution_count": null,
      "outputs": []
    },
    {
      "cell_type": "code",
      "source": [
        "plot_image(x_train[5])"
      ],
      "metadata": {
        "id": "vV0OT0azBH64",
        "outputId": "38ae0779-9912-41bb-d0c9-41f19eedba61",
        "colab": {
          "base_uri": "https://localhost:8080/",
          "height": 142
        }
      },
      "execution_count": null,
      "outputs": [
        {
          "output_type": "display_data",
          "data": {
            "text/plain": [
              "<Figure size 1000x100 with 1 Axes>"
            ],
            "image/png": "[encoded data removed]"
          },
          "metadata": {}
        }
      ]
    },
    {
      "cell_type": "code",
      "source": [
        "classes = [\"airplane\", \"automobile\", \"bird\", \"cat\", \"deer\", \"dog\", \"frog\", \"horse\", \"ship\", \"truck\"]"
      ],
      "metadata": {
        "id": "bjot5CrbDaiw"
      },
      "execution_count": null,
      "outputs": []
    },
    {
      "cell_type": "code",
      "source": [
        "x_train[0].shape[0]*x_train[0].shape[1]*x_train[0].shape[2]"
      ],
      "metadata": {
        "id": "TEBOYRdkGtf6",
        "outputId": "30c9f4c0-b2a4-4be5-b393-73d8e493e058",
        "colab": {
          "base_uri": "https://localhost:8080/"
        }
      },
      "execution_count": null,
      "outputs": [
        {
          "output_type": "execute_result",
          "data": {
            "text/plain": [
              "3072"
            ]
          },
          "metadata": {},
          "execution_count": 53
        }
      ]
    },
    {
      "cell_type": "code",
      "source": [
        "input_shape = x_train[0].shape\n",
        "model = Sequential()\n",
        "model.add(Flatten(input_shape=input_shape))\n",
        "model.add(Dense(3000, activation=\"relu\"))\n",
        "model.add(Dense(1000, activation=\"relu\"))\n",
        "model.add(Dense(len(classes), activation=\"sigmoid\"))"
      ],
      "metadata": {
        "id": "DbF4IpuFERFw"
      },
      "execution_count": null,
      "outputs": []
    },
    {
      "cell_type": "code",
      "source": [
        "model.compile(\n",
        "    optimizer=\"SGD\",\n",
        "    loss=\"categorical_crossentropy\",\n",
        "    metrics=[\"accuracy\"]\n",
        ")"
      ],
      "metadata": {
        "id": "8lE2r6j4HPXG"
      },
      "execution_count": null,
      "outputs": []
    },
    {
      "cell_type": "code",
      "source": [
        "def get_model():\n",
        "  input_shape = x_train[0].shape\n",
        "  model = Sequential()\n",
        "  model.add(Flatten(input_shape=input_shape))\n",
        "  model.add(Dense(3000, activation=\"relu\"))\n",
        "  model.add(Dense(1000, activation=\"relu\"))\n",
        "  model.add(Dense(len(classes), activation=\"sigmoid\"))\n",
        "\n",
        "  model.compile(\n",
        "      optimizer=\"SGD\",\n",
        "      loss=\"categorical_crossentropy\",\n",
        "      metrics=[\"accuracy\"]\n",
        "  )\n",
        "  return model\n"
      ],
      "metadata": {
        "id": "LU3qGNxpHgcv"
      },
      "execution_count": null,
      "outputs": []
    },
    {
      "cell_type": "code",
      "source": [
        "%%timeit -n1 -r1\n",
        "with tf.device(\"/CPU:0\"):\n",
        "  cpu_model = get_model()\n",
        "  cpu_model.fit(x_train_scaled, y_train_categorical, epochs=1)"
      ],
      "metadata": {
        "id": "R1TDRRl0InE6",
        "outputId": "f4b6c94f-a40e-4a93-dbe2-92dede8c1f3c",
        "colab": {
          "base_uri": "https://localhost:8080/"
        }
      },
      "execution_count": null,
      "outputs": [
        {
          "output_type": "stream",
          "name": "stdout",
          "text": [
            "1563/1563 [==============================] - 126s 80ms/step - loss: 1.8104 - accuracy: 0.3565\n",
            "2min 24s ± 0 ns per loop (mean ± std. dev. of 1 run, 1 loop each)\n"
          ]
        }
      ]
    },
    {
      "cell_type": "code",
      "source": [
        "%%timeit -n1 -r1\n",
        "with tf.device(\"/GPU:0\"):\n",
        "  gpu_model = get_model()\n",
        "  gpu_model.fit(x_train_scaled, y_train_categorical, epochs=1)"
      ],
      "metadata": {
        "id": "VlJDM7geJDK4",
        "outputId": "53aa80a8-7b97-46d5-e2b5-96a279bf0abd",
        "colab": {
          "base_uri": "https://localhost:8080/"
        }
      },
      "execution_count": null,
      "outputs": [
        {
          "output_type": "stream",
          "name": "stdout",
          "text": [
            "1563/1563 [==============================] - 9s 5ms/step - loss: 1.8106 - accuracy: 0.3530\n",
            "11.1 s ± 0 ns per loop (mean ± std. dev. of 1 run, 1 loop each)\n"
          ]
        }
      ]
    }
  ]
}