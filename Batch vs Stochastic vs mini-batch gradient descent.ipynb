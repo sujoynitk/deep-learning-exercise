{
 "cells": [
  {
   "cell_type": "markdown",
   "id": "e94272c4-4d84-4634-a4e4-3fac76cfc292",
   "metadata": {},
   "source": [
    "We will use very simple home prices data set to implement batch and stochastic gradient descent in python. Batch gradient descent uses all training samples in forward pass to calculate cumulitive error and than we adjust weights using derivaties. In stochastic GD, we randomly pick one training sample, perform forward pass, compute the error and immidiately adjust weights. So the key difference here is that to adjust weights batch GD will use all training samples where as stochastic GD will use one randomly picked training sample"
   ]
  },
  {
   "cell_type": "code",
   "execution_count": 86,
   "id": "083ecc1a-cbdd-4192-8b21-f4357ecca162",
   "metadata": {},
   "outputs": [],
   "source": [
    "import pandas as pd\n",
    "import numpy as np\n",
    "import matplotlib.pyplot as plt\n",
    "import random"
   ]
  },
  {
   "cell_type": "code",
   "execution_count": 4,
   "id": "eeff244f-d3e7-46bc-bc07-73b6664b4096",
   "metadata": {},
   "outputs": [
    {
     "data": {
      "text/html": [
       "<div>\n",
       "<style scoped>\n",
       "    .dataframe tbody tr th:only-of-type {\n",
       "        vertical-align: middle;\n",
       "    }\n",
       "\n",
       "    .dataframe tbody tr th {\n",
       "        vertical-align: top;\n",
       "    }\n",
       "\n",
       "    .dataframe thead th {\n",
       "        text-align: right;\n",
       "    }\n",
       "</style>\n",
       "<table border=\"1\" class=\"dataframe\">\n",
       "  <thead>\n",
       "    <tr style=\"text-align: right;\">\n",
       "      <th></th>\n",
       "      <th>area</th>\n",
       "      <th>bedrooms</th>\n",
       "      <th>price</th>\n",
       "    </tr>\n",
       "  </thead>\n",
       "  <tbody>\n",
       "    <tr>\n",
       "      <th>0</th>\n",
       "      <td>1056</td>\n",
       "      <td>2</td>\n",
       "      <td>39.07</td>\n",
       "    </tr>\n",
       "    <tr>\n",
       "      <th>1</th>\n",
       "      <td>2600</td>\n",
       "      <td>4</td>\n",
       "      <td>120.00</td>\n",
       "    </tr>\n",
       "    <tr>\n",
       "      <th>2</th>\n",
       "      <td>1440</td>\n",
       "      <td>3</td>\n",
       "      <td>62.00</td>\n",
       "    </tr>\n",
       "    <tr>\n",
       "      <th>3</th>\n",
       "      <td>1521</td>\n",
       "      <td>3</td>\n",
       "      <td>75.00</td>\n",
       "    </tr>\n",
       "    <tr>\n",
       "      <th>4</th>\n",
       "      <td>1200</td>\n",
       "      <td>2</td>\n",
       "      <td>51.00</td>\n",
       "    </tr>\n",
       "  </tbody>\n",
       "</table>\n",
       "</div>"
      ],
      "text/plain": [
       "   area  bedrooms   price\n",
       "0  1056         2   39.07\n",
       "1  2600         4  120.00\n",
       "2  1440         3   62.00\n",
       "3  1521         3   75.00\n",
       "4  1200         2   51.00"
      ]
     },
     "execution_count": 4,
     "metadata": {},
     "output_type": "execute_result"
    }
   ],
   "source": [
    "df = pd.read_csv(\"data/homeprices_banglore.csv\")\n",
    "df.head()"
   ]
  },
  {
   "cell_type": "code",
   "execution_count": 23,
   "id": "f6f0edc4-407d-498d-b9f9-7eb52679ff61",
   "metadata": {},
   "outputs": [],
   "source": [
    "from sklearn.preprocessing import MinMaxScaler\n",
    "sx = MinMaxScaler()\n",
    "sy = MinMaxScaler()\n",
    "\n",
    "X_scaled = sx.fit_transform(df.iloc[:,:-1])\n",
    "Y_scaled = sy.fit_transform(df.iloc[:, -1].values.reshape(df.shape[0], 1))"
   ]
  },
  {
   "cell_type": "code",
   "execution_count": 24,
   "id": "abe69118-627a-49c2-904f-576fffb005a7",
   "metadata": {},
   "outputs": [
    {
     "data": {
      "text/plain": [
       "array([[0.08827586, 0.25      ],\n",
       "       [0.62068966, 0.75      ],\n",
       "       [0.22068966, 0.5       ],\n",
       "       [0.24862069, 0.5       ],\n",
       "       [0.13793103, 0.25      ],\n",
       "       [0.12758621, 0.25      ],\n",
       "       [0.6662069 , 0.75      ],\n",
       "       [0.86206897, 0.75      ],\n",
       "       [0.17586207, 0.5       ],\n",
       "       [1.        , 1.        ],\n",
       "       [0.34482759, 0.5       ],\n",
       "       [0.68448276, 0.75      ],\n",
       "       [0.06896552, 0.25      ],\n",
       "       [0.10344828, 0.25      ],\n",
       "       [0.5       , 0.5       ],\n",
       "       [0.12931034, 0.25      ],\n",
       "       [0.13103448, 0.5       ],\n",
       "       [0.25517241, 0.5       ],\n",
       "       [0.67931034, 0.5       ],\n",
       "       [0.        , 0.        ]])"
      ]
     },
     "execution_count": 24,
     "metadata": {},
     "output_type": "execute_result"
    }
   ],
   "source": [
    "X_scaled"
   ]
  },
  {
   "cell_type": "code",
   "execution_count": 25,
   "id": "716a50a1-e240-40d3-a7dc-7f806d3d6c6f",
   "metadata": {},
   "outputs": [
    {
     "data": {
      "text/plain": [
       "array([[0.05237037],\n",
       "       [0.65185185],\n",
       "       [0.22222222],\n",
       "       [0.31851852],\n",
       "       [0.14074074],\n",
       "       [0.04444444],\n",
       "       [0.76296296],\n",
       "       [0.91111111],\n",
       "       [0.13333333],\n",
       "       [1.        ],\n",
       "       [0.37037037],\n",
       "       [0.8       ],\n",
       "       [0.04444444],\n",
       "       [0.05925926],\n",
       "       [0.51111111],\n",
       "       [0.07407407],\n",
       "       [0.11851852],\n",
       "       [0.20740741],\n",
       "       [0.51851852],\n",
       "       [0.        ]])"
      ]
     },
     "execution_count": 25,
     "metadata": {},
     "output_type": "execute_result"
    }
   ],
   "source": [
    "Y_scaled"
   ]
  },
  {
   "cell_type": "markdown",
   "id": "93daf890-c41c-4168-8c1b-b7fffd6996c5",
   "metadata": {},
   "source": [
    "We should convert target column (i.e. price) into one dimensional array. It has become 2D due to scaling that we did above but now we should change to 1D"
   ]
  },
  {
   "cell_type": "code",
   "execution_count": 26,
   "id": "f82403b5-76bf-41b4-ad8b-4cf96f248d42",
   "metadata": {},
   "outputs": [],
   "source": [
    "Y_scaled = Y_scaled.flatten()"
   ]
  },
  {
   "cell_type": "code",
   "execution_count": 30,
   "id": "92563d25-7cac-44f4-b85f-3306af230fa3",
   "metadata": {},
   "outputs": [
    {
     "data": {
      "text/plain": [
       "array([0.05237037, 0.65185185, 0.22222222, 0.31851852, 0.14074074,\n",
       "       0.04444444, 0.76296296, 0.91111111, 0.13333333, 1.        ,\n",
       "       0.37037037, 0.8       , 0.04444444, 0.05925926, 0.51111111,\n",
       "       0.07407407, 0.11851852, 0.20740741, 0.51851852, 0.        ])"
      ]
     },
     "execution_count": 30,
     "metadata": {},
     "output_type": "execute_result"
    }
   ],
   "source": [
    "Y_scaled"
   ]
  },
  {
   "attachments": {
    "2716b819-30fa-4ab5-a3e1-ca3d491edfee.png": {
     "image/png": "[encoded data removed]"
    }
   },
   "cell_type": "markdown",
   "id": "112223da-8789-4641-82b7-c63d19f6e0ed",
   "metadata": {},
   "source": [
    "Gradient descent allows you to find weights (w1,w2,w3) and bias in following linear equation for housing price prediction\n",
    "\n",
    "![image.png](attachment:2716b819-30fa-4ab5-a3e1-ca3d491edfee.png)"
   ]
  },
  {
   "cell_type": "markdown",
   "id": "e3d8b168-107b-4107-93b5-1724b4578f9a",
   "metadata": {},
   "source": [
    "Now is the time to implement batch gradient descent."
   ]
  },
  {
   "cell_type": "code",
   "execution_count": 87,
   "id": "0339aa94-8ffd-4c25-87e4-ed704a8f0678",
   "metadata": {},
   "outputs": [],
   "source": [
    "def batch_gradient_descent(X, y_true, epochs, learning_rate=0.01):\n",
    "    w = np.ones(X.shape[1])\n",
    "    bias = 1\n",
    "    cost_function_list = []\n",
    "    epoch_list = []\n",
    "    for i in range(epochs):\n",
    "        y_predicted = np.dot(w, X.T) + bias\n",
    "\n",
    "        w_grad = -(2/X.shape[0])*np.dot(X.T, (y_true - y_predicted))\n",
    "        bias_grad = -(2/X.shape[0])*np.sum(y_true - y_predicted)\n",
    "\n",
    "        w = w - learning_rate*w_grad\n",
    "        bias = bias - learning_rate*bias_grad\n",
    "        cost = np.mean(np.square(y_true - y_predicted))\n",
    "        if i%10 == 0:\n",
    "            cost_function_list.append(cost)\n",
    "            epoch_list.append(i)\n",
    "    return w, bias, cost, cost_function_list, epoch_list  \n"
   ]
  },
  {
   "cell_type": "code",
   "execution_count": 88,
   "id": "eb9abe05-4119-4815-bed0-84449ccf6641",
   "metadata": {},
   "outputs": [
    {
     "data": {
      "text/plain": [
       "(array([0.65505447, 0.47204276]), -0.10562284482412325, 0.004176627563634606)"
      ]
     },
     "execution_count": 88,
     "metadata": {},
     "output_type": "execute_result"
    }
   ],
   "source": [
    "w, bias, cost, cost_function_list, epoch_list = batch_gradient_descent(X_scaled, Y_scaled, 500)\n",
    "w, bias, cost"
   ]
  },
  {
   "cell_type": "code",
   "execution_count": 89,
   "id": "e59ccf63-fe84-467d-b506-b9032d2c6cf5",
   "metadata": {},
   "outputs": [
    {
     "data": {
      "text/plain": [
       "[<matplotlib.lines.Line2D at 0x271ab2b6050>]"
      ]
     },
     "execution_count": 89,
     "metadata": {},
     "output_type": "execute_result"
    },
    {
     "data": {
      "image/png": "[encoded data removed]",
      "text/plain": [
       "<Figure size 640x480 with 1 Axes>"
      ]
     },
     "metadata": {},
     "output_type": "display_data"
    }
   ],
   "source": [
    "plt.xlabel(\"No. of epochs\")\n",
    "plt.ylabel(\"Cost\")\n",
    "plt.plot(epoch_list, cost_function_list)"
   ]
  },
  {
   "cell_type": "markdown",
   "id": "5fb29953-9f16-4791-bf97-b73efcf8eee6",
   "metadata": {},
   "source": [
    "Lets do some predictions now."
   ]
  },
  {
   "cell_type": "code",
   "execution_count": 90,
   "id": "ef81778a-920b-4b7c-9e0d-0b6fe567c48d",
   "metadata": {},
   "outputs": [],
   "source": [
    "def predict_using_bgd(area, bedrooms, w, bias):\n",
    "    input_scaled = sx.transform(np.array([[area, bedrooms]]))[0]\n",
    "    output_scaled = w[0]*input_scaled[0] + w[1]*input_scaled[1] + bias\n",
    "    output = sy.inverse_transform([[output_scaled]])\n",
    "    return output[0][0]"
   ]
  },
  {
   "cell_type": "code",
   "execution_count": 91,
   "id": "357f1622-64e1-4847-a1d7-b1768135cfcc",
   "metadata": {},
   "outputs": [
    {
     "name": "stderr",
     "output_type": "stream",
     "text": [
      "C:\\Users\\sujoy\\anaconda3\\Lib\\site-packages\\sklearn\\base.py:439: UserWarning: X does not have valid feature names, but MinMaxScaler was fitted with feature names\n",
      "  warnings.warn(\n"
     ]
    },
    {
     "data": {
      "text/plain": [
       "70.94954283313693"
      ]
     },
     "execution_count": 91,
     "metadata": {},
     "output_type": "execute_result"
    }
   ],
   "source": [
    "predict_using_bgd(1500, 3, w, bias)"
   ]
  },
  {
   "cell_type": "code",
   "execution_count": 47,
   "id": "e8612982-4f94-4223-8f63-01cb28a72e9f",
   "metadata": {},
   "outputs": [
    {
     "data": {
      "text/plain": [
       "array([0.33827586, 1.37068966, 0.72068966, 0.74862069, 0.38793103,\n",
       "       0.37758621, 1.4162069 , 1.61206897, 0.67586207, 2.        ,\n",
       "       0.84482759, 1.43448276, 0.31896552, 0.35344828, 1.        ,\n",
       "       0.37931034, 0.63103448, 0.75517241, 1.17931034, 0.        ])"
      ]
     },
     "execution_count": 47,
     "metadata": {},
     "output_type": "execute_result"
    }
   ],
   "source": [
    "w = np.ones(X_scaled.shape[1])\n",
    "np.dot(w, X_scaled.T)"
   ]
  },
  {
   "cell_type": "code",
   "execution_count": 51,
   "id": "8b984f97-b2e8-4251-b74b-f85d1c44f9c0",
   "metadata": {},
   "outputs": [
    {
     "data": {
      "text/plain": [
       "array([[0.08827586, 0.62068966, 0.22068966, 0.24862069, 0.13793103,\n",
       "        0.12758621, 0.6662069 , 0.86206897, 0.17586207, 1.        ,\n",
       "        0.34482759, 0.68448276, 0.06896552, 0.10344828, 0.5       ,\n",
       "        0.12931034, 0.13103448, 0.25517241, 0.67931034, 0.        ],\n",
       "       [0.25      , 0.75      , 0.5       , 0.5       , 0.25      ,\n",
       "        0.25      , 0.75      , 0.75      , 0.5       , 1.        ,\n",
       "        0.5       , 0.75      , 0.25      , 0.25      , 0.5       ,\n",
       "        0.25      , 0.5       , 0.5       , 0.5       , 0.        ]])"
      ]
     },
     "execution_count": 51,
     "metadata": {},
     "output_type": "execute_result"
    }
   ],
   "source": [
    "X_scaled.T"
   ]
  },
  {
   "cell_type": "code",
   "execution_count": 49,
   "id": "685dba9d-a10b-481d-9a7b-5991ea326954",
   "metadata": {},
   "outputs": [
    {
     "data": {
      "text/plain": [
       "array([ 8.736861  , 10.19172414])"
      ]
     },
     "execution_count": 49,
     "metadata": {},
     "output_type": "execute_result"
    }
   ],
   "source": [
    "np.dot(X_scaled.T, np.dot(w, X_scaled.T))"
   ]
  },
  {
   "cell_type": "code",
   "execution_count": 52,
   "id": "b8692ca5-44bb-4d09-bae2-c42cf6d4c1e6",
   "metadata": {},
   "outputs": [
    {
     "data": {
      "text/plain": [
       "array([ 8.736861  , 10.19172414])"
      ]
     },
     "execution_count": 52,
     "metadata": {},
     "output_type": "execute_result"
    }
   ],
   "source": [
    "np.dot(np.dot(w, X_scaled.T), X_scaled)"
   ]
  },
  {
   "cell_type": "markdown",
   "id": "92e18dbc-04cf-469a-804c-3975d4fefc27",
   "metadata": {},
   "source": [
    "(2) Stochastic Gradient Descent Implementation\n",
    "\n",
    "Stochastic GD will use randomly picked single training sample to calculate error and using this error we backpropage to adjust weights\r\n"
   ]
  },
  {
   "cell_type": "code",
   "execution_count": 113,
   "id": "932b65c8-304c-4072-a12f-14aa446421cc",
   "metadata": {},
   "outputs": [],
   "source": [
    "def stochastic_gradient_descent(X, y_true, epochs, learning_rate=0.01):\n",
    "    w = np.ones(X.shape[1])\n",
    "    bias = 1\n",
    "    cost_function_list = []\n",
    "    epoch_list = []\n",
    "    for i in range(epochs):\n",
    "        random_index = random.randint(0, X.shape[0] - 1)\n",
    "        X_sample = X[random_index]\n",
    "        y_true_sample = y_true[random_index]\n",
    "        \n",
    "        y_predicted_sample = np.dot(w, X_sample.T) + bias\n",
    "\n",
    "        w_grad = -(2/X_sample.shape[0])*np.dot(X_sample.T, (y_true_sample - y_predicted_sample))\n",
    "        bias_grad = -(2/X_sample.shape[0])*np.sum(y_true_sample - y_predicted_sample)\n",
    "\n",
    "        w = w - learning_rate*w_grad\n",
    "        bias = bias - learning_rate*bias_grad\n",
    "        cost = np.mean(np.square(y_true_sample - y_predicted_sample))\n",
    "        if i%10 == 0:\n",
    "            cost_function_list.append(cost)\n",
    "            epoch_list.append(i)\n",
    "    return w, bias, cost, cost_function_list, epoch_list  "
   ]
  },
  {
   "cell_type": "code",
   "execution_count": 114,
   "id": "7e519434-56aa-4f54-9b1a-91a009f33c4c",
   "metadata": {},
   "outputs": [
    {
     "data": {
      "text/plain": [
       "(array([0.6260958 , 0.46624795]), -0.09241212845541293, 0.0036284264136458313)"
      ]
     },
     "execution_count": 114,
     "metadata": {},
     "output_type": "execute_result"
    }
   ],
   "source": [
    "w_sgd, bias_sgd, cost_sgd, cost_function_list_sgd, epoch_list_sgd = stochastic_gradient_descent(X_scaled, Y_scaled, 500)\n",
    "w_sgd, bias_sgd, cost_sgd"
   ]
  },
  {
   "cell_type": "code",
   "execution_count": 115,
   "id": "ed435a80-9b51-4906-9406-33af00340edf",
   "metadata": {},
   "outputs": [
    {
     "data": {
      "text/plain": [
       "[<matplotlib.lines.Line2D at 0x271ab40ba90>]"
      ]
     },
     "execution_count": 115,
     "metadata": {},
     "output_type": "execute_result"
    },
    {
     "data": {
      "image/png": "[encoded data removed]",
      "text/plain": [
       "<Figure size 640x480 with 1 Axes>"
      ]
     },
     "metadata": {},
     "output_type": "display_data"
    }
   ],
   "source": [
    "plt.xlabel(\"No. of epochs\")\n",
    "plt.ylabel(\"Cost\")\n",
    "plt.plot(epoch_list_sgd, cost_function_list_sgd)"
   ]
  },
  {
   "cell_type": "code",
   "execution_count": 97,
   "id": "934ccb5a-bd5e-4f25-b46a-52fcff2fe314",
   "metadata": {},
   "outputs": [],
   "source": [
    "def predict_using_sgd(area, bedrooms, w, bias):\n",
    "    input_scaled = sx.transform(np.array([[area, bedrooms]]))[0]\n",
    "    output_scaled = w[0]*input_scaled[0] + w[1]*input_scaled[1] + bias\n",
    "    output = sy.inverse_transform([[output_scaled]])\n",
    "    return output[0][0]"
   ]
  },
  {
   "cell_type": "code",
   "execution_count": 99,
   "id": "493dbabd-51bc-4f74-b8f0-6a42b9ebe823",
   "metadata": {},
   "outputs": [
    {
     "name": "stderr",
     "output_type": "stream",
     "text": [
      "C:\\Users\\sujoy\\anaconda3\\Lib\\site-packages\\sklearn\\base.py:439: UserWarning: X does not have valid feature names, but MinMaxScaler was fitted with feature names\n",
      "  warnings.warn(\n"
     ]
    },
    {
     "data": {
      "text/plain": [
       "72.79415993189508"
      ]
     },
     "execution_count": 99,
     "metadata": {},
     "output_type": "execute_result"
    }
   ],
   "source": [
    "predict_using_sgd(1500, 3, w_sgd, bias_sgd)"
   ]
  },
  {
   "cell_type": "markdown",
   "id": "c5258ee5-7d41-4e13-be68-e28d68276e48",
   "metadata": {},
   "source": [
    "(3) Mini-batch Gradient Descent Implementation\r\n",
    "Mini-batchic GD will use randomly pickeset ofle training sampsle to calculate error and using this error we backpropage to adjust weights"
   ]
  },
  {
   "cell_type": "code",
   "execution_count": 111,
   "id": "5b550a54-cd94-4c13-b03f-e8e3911f182c",
   "metadata": {},
   "outputs": [],
   "source": [
    "def mini_batch_gradient_descent(X, y_true, epochs, num_samples, learning_rate=0.01):\n",
    "    w = np.ones(X.shape[1])\n",
    "    bias = 1\n",
    "    cost_function_list = []\n",
    "    epoch_list = []\n",
    "    for i in range(epochs):\n",
    "        try:\n",
    "            random_range = random.sample(range(0, X.shape[0]), num_samples)\n",
    "        except ValueError:\n",
    "            print('Sample size exceeded population size.')\n",
    "        X_sample = X[random_range]\n",
    "        y_true_sample = y_true[random_range]\n",
    "        \n",
    "        y_predicted_sample = np.dot(w, X_sample.T) + bias\n",
    "\n",
    "        w_grad = -(2/X_sample.shape[0])*np.dot(X_sample.T, (y_true_sample - y_predicted_sample))\n",
    "        bias_grad = -(2/X_sample.shape[0])*np.sum(y_true_sample - y_predicted_sample)\n",
    "\n",
    "        w = w - learning_rate*w_grad\n",
    "        bias = bias - learning_rate*bias_grad\n",
    "        cost = np.mean(np.square(y_true_sample - y_predicted_sample))\n",
    "        if i%10 == 0:\n",
    "            cost_function_list.append(cost)\n",
    "            epoch_list.append(i)\n",
    "    return w, bias, cost, cost_function_list, epoch_list  "
   ]
  },
  {
   "cell_type": "code",
   "execution_count": 112,
   "id": "2c895366-d803-442e-a6c3-94378544b931",
   "metadata": {},
   "outputs": [
    {
     "data": {
      "text/plain": [
       "(array([0.65252973, 0.47041932]), -0.10702700065205913, 0.0029211422291099756)"
      ]
     },
     "execution_count": 112,
     "metadata": {},
     "output_type": "execute_result"
    }
   ],
   "source": [
    "w_mbgd, bias_mbgd, cost_mbgd, cost_function_list_mbgd, epoch_list_mbgd = mini_batch_gradient_descent(X_scaled, Y_scaled, epochs=500, num_samples=5)\n",
    "w_mbgd, bias_mbgd, cost_mbgd"
   ]
  },
  {
   "cell_type": "code",
   "execution_count": 116,
   "id": "9a0c7972-3cd7-4535-9581-f6eb692359f8",
   "metadata": {},
   "outputs": [
    {
     "data": {
      "text/plain": [
       "[<matplotlib.lines.Line2D at 0x271ab3ef910>]"
      ]
     },
     "execution_count": 116,
     "metadata": {},
     "output_type": "execute_result"
    },
    {
     "data": {
      "image/png": "[encoded data removed]",
      "text/plain": [
       "<Figure size 640x480 with 1 Axes>"
      ]
     },
     "metadata": {},
     "output_type": "display_data"
    }
   ],
   "source": [
    "plt.xlabel(\"No. of epochs\")\n",
    "plt.ylabel(\"Cost\")\n",
    "plt.plot(epoch_list_mbgd, cost_function_list_mbgd)"
   ]
  },
  {
   "cell_type": "code",
   "execution_count": 117,
   "id": "4bfdded8-8172-48e6-9624-1c6bb37700f4",
   "metadata": {},
   "outputs": [],
   "source": [
    "def predict_using_mbgd(area, bedrooms, w, bias):\n",
    "    input_scaled = sx.transform(np.array([[area, bedrooms]]))[0]\n",
    "    output_scaled = w[0]*input_scaled[0] + w[1]*input_scaled[1] + bias\n",
    "    output = sy.inverse_transform([[output_scaled]])\n",
    "    return output[0][0]"
   ]
  },
  {
   "cell_type": "code",
   "execution_count": 118,
   "id": "a606dac3-def3-4c9e-9a0b-5725f490df3c",
   "metadata": {},
   "outputs": [
    {
     "name": "stderr",
     "output_type": "stream",
     "text": [
      "C:\\Users\\sujoy\\anaconda3\\Lib\\site-packages\\sklearn\\base.py:439: UserWarning: X does not have valid feature names, but MinMaxScaler was fitted with feature names\n",
      "  warnings.warn(\n"
     ]
    },
    {
     "data": {
      "text/plain": [
       "70.56812756967174"
      ]
     },
     "execution_count": 118,
     "metadata": {},
     "output_type": "execute_result"
    }
   ],
   "source": [
    "predict_using_mbgd(1500, 3, w_mbgd, bias_mbgd)"
   ]
  },
  {
   "cell_type": "code",
   "execution_count": null,
   "id": "82b4fd8c-7b2c-441e-8ea8-603b5ab8cf27",
   "metadata": {},
   "outputs": [],
   "source": []
  }
 ],
 "metadata": {
  "kernelspec": {
   "display_name": "Python 3 (ipykernel)",
   "language": "python",
   "name": "python3"
  },
  "language_info": {
   "codemirror_mode": {
    "name": "ipython",
    "version": 3
   },
   "file_extension": ".py",
   "mimetype": "text/x-python",
   "name": "python",
   "nbconvert_exporter": "python",
   "pygments_lexer": "ipython3",
   "version": "3.11.7"
  }
 },
 "nbformat": 4,
 "nbformat_minor": 5
}
